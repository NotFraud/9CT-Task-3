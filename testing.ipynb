{
 "cells": [
  {
   "cell_type": "code",
   "execution_count": 6,
   "metadata": {},
   "outputs": [],
   "source": [
    "import pandas as pd\n",
    "SocialMediaMarket = pd.read_csv(\"social_media_4.csv\")\n",
    "AnxietyDisorderRates = pd.read_csv(\"prevalence-of-anxiety-disorders-males-vs-females.csv\")\n",
    "\n",
    "columns_to_keep = ['Date', 'Instagram']\n",
    "SocialMediaMarket.drop(columns=[col for col in SocialMediaMarket.columns if col not in columns_to_keep]).to_csv('Insta_Market.csv', index=False)\n",
    "columns_to_keep_anxiety = ['Entity', 'Year', 'Male_Prevalence', 'Female_Prevalence']\n",
    "AnxietyDisorderRates.drop(columns=[col for col in AnxietyDisorderRates.columns if col not in columns_to_keep_anxiety]).to_csv('Anxiety_Rates.csv', index=False)\n",
    "\n"
   ]
  },
  {
   "cell_type": "code",
   "execution_count": null,
   "metadata": {},
   "outputs": [],
   "source": []
  }
 ],
 "metadata": {
  "kernelspec": {
   "display_name": "Python 3",
   "language": "python",
   "name": "python3"
  },
  "language_info": {
   "codemirror_mode": {
    "name": "ipython",
    "version": 3
   },
   "file_extension": ".py",
   "mimetype": "text/x-python",
   "name": "python",
   "nbconvert_exporter": "python",
   "pygments_lexer": "ipython3",
   "version": "3.12.8"
  },
  "orig_nbformat": 4
 },
 "nbformat": 4,
 "nbformat_minor": 2
}
