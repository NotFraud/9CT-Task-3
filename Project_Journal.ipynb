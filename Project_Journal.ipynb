{
 "cells": [
  {
   "attachments": {},
   "cell_type": "markdown",
   "metadata": {},
   "source": [
    "# Thesis Question\n",
    "- does daily use of personal social media (instagram etc..) increase anxiety rates in 14-16 yr olds\n",
    "\n",
    "## Hypothesis\n",
    "- Teenages aged 14-16 who use Instagram daily have higher rates of anxiety then those who dont use Instagram.\n",
    "\n",
    "## Mind Map\n",
    "\n",
    "## Requirements\n",
    "### Functional\n",
    "- Use Case: Inform Users and provide visual representations of rates of anxiety in teenage Instagram users.\n",
    "- UI: Provide a text based interactive UI that allows for switching between country view, as in rates of the above for America, Australia, England, etc...\n",
    "- Errors: Handles errors such as empty data or incorrect formatting by removing them or repllacing them with recogniseable and skippable 'filler' values.\n",
    "- Output: The data should output as a matplotlib visual plot graph of data. (I might make it downloadable but not sure if i'll have time)\n",
    "### Non-Functional\n",
    "- Speed: Should be able to fetch data from the datasets and return it as a visual representation within 2 seconds.\n",
    "- Reliability: Should not error at all.\n"
   ]
  }
 ],
 "metadata": {
  "language_info": {
   "name": "python"
  },
  "orig_nbformat": 4
 },
 "nbformat": 4,
 "nbformat_minor": 2
}
