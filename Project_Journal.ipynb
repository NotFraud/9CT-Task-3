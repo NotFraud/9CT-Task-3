{
 "cells": [
  {
   "attachments": {},
   "cell_type": "markdown",
   "metadata": {},
   "source": [
    "### Thesis Question\n",
    "- does daily use of personal social media (instagram etc..) increase anxiety rates in 14-16 yr olds\n",
    "\n",
    "## Mind Map"
   ]
  }
 ],
 "metadata": {
  "language_info": {
   "name": "python"
  },
  "orig_nbformat": 4
 },
 "nbformat": 4,
 "nbformat_minor": 2
}
